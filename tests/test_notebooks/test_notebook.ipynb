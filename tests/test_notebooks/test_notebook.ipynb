
    {
     "cells": [
      {
       "cell_type": "code",
       "execution_count": null,
       "id": "dbf00e9b",
       "metadata": {},
       "outputs": [],
       "source": [
        "import numpy as np\n",
        "import pandas as pd\n",
        "a = np.array([1, 2, 3])\n",
        "b = pd.Series([1, 2, 3])\n"
       ]
      }
     ],
     "metadata": {},
     "nbformat": 4,
     "nbformat_minor": 2
    }
    